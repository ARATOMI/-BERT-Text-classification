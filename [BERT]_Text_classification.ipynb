{
  "nbformat": 4,
  "nbformat_minor": 0,
  "metadata": {
    "colab": {
      "name": "[BERT] Text classification",
      "provenance": []
    },
    "kernelspec": {
      "name": "python3",
      "display_name": "Python 3"
    },
    "language_info": {
      "name": "python"
    },
    "accelerator": "GPU"
  },
  "cells": [
    {
      "cell_type": "markdown",
      "metadata": {
        "id": "65eC65rrHAd5"
      },
      "source": [
        "## Подготовка"
      ]
    },
    {
      "cell_type": "markdown",
      "metadata": {
        "id": "YTa1MtlAJLNJ"
      },
      "source": [
        "### Зависимости"
      ]
    },
    {
      "cell_type": "markdown",
      "metadata": {
        "id": "GnF2de25H214"
      },
      "source": [
        "Загрузка зависимостей:"
      ]
    },
    {
      "cell_type": "code",
      "metadata": {
        "id": "Na-uQsx_Fe07",
        "colab": {
          "base_uri": "https://localhost:8080/"
        },
        "outputId": "e31a206e-063a-497f-f5b1-115d4dab0896"
      },
      "source": [
        "# Установка зависимостей, необходимых для предобработки текста\n",
        "!pip install -q -U tensorflow-text"
      ],
      "execution_count": 1,
      "outputs": [
        {
          "output_type": "stream",
          "text": [
            "\u001b[K     |████████████████████████████████| 4.3MB 9.9MB/s \n",
            "\u001b[?25h"
          ],
          "name": "stdout"
        }
      ]
    },
    {
      "cell_type": "code",
      "metadata": {
        "id": "k1RQdVR6Hf3_",
        "colab": {
          "base_uri": "https://localhost:8080/"
        },
        "outputId": "5e669ffd-537b-4c65-d0cb-b06c6d2a679e"
      },
      "source": [
        "# Установка оптимизатора\n",
        "!pip install -q tf-models-official"
      ],
      "execution_count": 2,
      "outputs": [
        {
          "output_type": "stream",
          "text": [
            "\u001b[K     |████████████████████████████████| 1.6MB 12.5MB/s \n",
            "\u001b[K     |████████████████████████████████| 1.2MB 49.3MB/s \n",
            "\u001b[K     |████████████████████████████████| 358kB 49.4MB/s \n",
            "\u001b[K     |████████████████████████████████| 215kB 48.0MB/s \n",
            "\u001b[K     |████████████████████████████████| 645kB 50.9MB/s \n",
            "\u001b[K     |████████████████████████████████| 102kB 11.3MB/s \n",
            "\u001b[K     |████████████████████████████████| 51kB 8.8MB/s \n",
            "\u001b[K     |████████████████████████████████| 61kB 9.9MB/s \n",
            "\u001b[K     |████████████████████████████████| 37.2MB 84kB/s \n",
            "\u001b[K     |████████████████████████████████| 686kB 36.3MB/s \n",
            "\u001b[?25h  Building wheel for py-cpuinfo (setup.py) ... \u001b[?25l\u001b[?25hdone\n",
            "  Building wheel for seqeval (setup.py) ... \u001b[?25l\u001b[?25hdone\n"
          ],
          "name": "stdout"
        }
      ]
    },
    {
      "cell_type": "markdown",
      "metadata": {
        "id": "hczofNJdH5n2"
      },
      "source": [
        "Импорт зависимостей:"
      ]
    },
    {
      "cell_type": "code",
      "metadata": {
        "id": "MDtCRR9IHvzg"
      },
      "source": [
        "import os\n",
        "import shutil\n",
        "\n",
        "import tensorflow as tf\n",
        "import tensorflow_hub as hub\n",
        "import tensorflow_text as text\n",
        "from official.nlp import optimization  # to create AdamW optimizer\n",
        "\n",
        "import matplotlib.pyplot as plt\n",
        "\n",
        "tf.get_logger().setLevel('ERROR')"
      ],
      "execution_count": 3,
      "outputs": []
    },
    {
      "cell_type": "markdown",
      "metadata": {
        "id": "AT3PimQQJPX4"
      },
      "source": [
        "### Загрузка данных"
      ]
    },
    {
      "cell_type": "markdown",
      "metadata": {
        "id": "0tnciqtDJSyx"
      },
      "source": [
        "Для анализа используется [Large Movie Review Dataset](https://ai.stanford.edu/~amaas/data/sentiment/), содержащий 50000 обзоров на фильмы из [Internet Movie Database](https://www.imdb.com/)."
      ]
    },
    {
      "cell_type": "code",
      "metadata": {
        "id": "uNcFvl14JRmT",
        "colab": {
          "base_uri": "https://localhost:8080/"
        },
        "outputId": "211f8e05-30f4-4fa2-a5d5-4ed9493695d9"
      },
      "source": [
        "url = 'https://ai.stanford.edu/~amaas/data/sentiment/aclImdb_v1.tar.gz'\n",
        "\n",
        "dataset = tf.keras.utils.get_file('aclImdb_v1.tar.gz', url,\n",
        "                                  untar=True, cache_dir='.',\n",
        "                                  cache_subdir='')\n",
        "\n",
        "dataset_dir = os.path.join(os.path.dirname(dataset), 'aclImdb')\n",
        "\n",
        "train_dir = os.path.join(dataset_dir, 'train')\n",
        "\n",
        "# Удаление неиспользуемых файлов\n",
        "remove_dir = os.path.join(train_dir, 'unsup')\n",
        "shutil.rmtree(remove_dir)"
      ],
      "execution_count": 4,
      "outputs": [
        {
          "output_type": "stream",
          "text": [
            "Downloading data from https://ai.stanford.edu/~amaas/data/sentiment/aclImdb_v1.tar.gz\n",
            "84131840/84125825 [==============================] - 2s 0us/step\n"
          ],
          "name": "stdout"
        }
      ]
    },
    {
      "cell_type": "markdown",
      "metadata": {
        "id": "ijYJ03tgKnqZ"
      },
      "source": [
        "Разделение датасета на **тренировочную** и **валидационную** выборки:"
      ]
    },
    {
      "cell_type": "code",
      "metadata": {
        "id": "X5RcXx2GKk7Y",
        "colab": {
          "base_uri": "https://localhost:8080/"
        },
        "outputId": "104f2110-c243-4665-f865-30a5933af59b"
      },
      "source": [
        "AUTOTUNE = tf.data.AUTOTUNE\n",
        "batch_size = 32\n",
        "seed = 42 # Фиксирование сида, для того, чтобы при разделении наблюдения не перескались\n",
        "\n",
        "# Создание тренировочного датасета\n",
        "raw_train_ds = tf.keras.preprocessing.text_dataset_from_directory(\n",
        "    'aclImdb/train',\n",
        "    batch_size=batch_size,\n",
        "    validation_split=0.2,\n",
        "    subset='training',\n",
        "    seed=seed)\n",
        "\n",
        "class_names = raw_train_ds.class_names\n",
        "train_ds = raw_train_ds.cache().prefetch(buffer_size=AUTOTUNE)\n",
        "\n",
        "# Создание валидационного датасета\n",
        "val_ds = tf.keras.preprocessing.text_dataset_from_directory(\n",
        "    'aclImdb/train',\n",
        "    batch_size=batch_size,\n",
        "    validation_split=0.2,\n",
        "    subset='validation',\n",
        "    seed=seed)\n",
        "\n",
        "val_ds = val_ds.cache().prefetch(buffer_size=AUTOTUNE)\n",
        "\n",
        "# Тестовый датасет\n",
        "test_ds = tf.keras.preprocessing.text_dataset_from_directory(\n",
        "    'aclImdb/test',\n",
        "    batch_size=batch_size)\n",
        "\n",
        "test_ds = test_ds.cache().prefetch(buffer_size=AUTOTUNE)"
      ],
      "execution_count": 5,
      "outputs": [
        {
          "output_type": "stream",
          "text": [
            "Found 25000 files belonging to 2 classes.\n",
            "Using 20000 files for training.\n",
            "Found 25000 files belonging to 2 classes.\n",
            "Using 5000 files for validation.\n",
            "Found 25000 files belonging to 2 classes.\n"
          ],
          "name": "stdout"
        }
      ]
    },
    {
      "cell_type": "markdown",
      "metadata": {
        "id": "wAXJFUBIONxV"
      },
      "source": [
        "### Загрузка предобработчика"
      ]
    },
    {
      "cell_type": "code",
      "metadata": {
        "id": "Zi15r9mOOL5q"
      },
      "source": [
        "tfhub_handle_encoder = 'https://tfhub.dev/tensorflow/small_bert/bert_en_uncased_L-2_H-128_A-2/1'\n",
        "tfhub_handle_preprocess = 'https://tfhub.dev/tensorflow/bert_en_uncased_preprocess/3'"
      ],
      "execution_count": 6,
      "outputs": []
    },
    {
      "cell_type": "code",
      "metadata": {
        "id": "b8lRKdCVOnuX"
      },
      "source": [
        "bert_preprocess_model = hub.KerasLayer(tfhub_handle_preprocess)"
      ],
      "execution_count": 7,
      "outputs": []
    },
    {
      "cell_type": "markdown",
      "metadata": {
        "id": "mm-ZQRU0O9nE"
      },
      "source": [
        "Пример работы предобработчика:"
      ]
    },
    {
      "cell_type": "code",
      "metadata": {
        "id": "DjfVmOpaPAW0",
        "colab": {
          "base_uri": "https://localhost:8080/"
        },
        "outputId": "1065335b-b11f-4c01-adf7-05bd5e1a0275"
      },
      "source": [
        "text_test = ['this is such an amazing movie!']\n",
        "text_preprocessed = bert_preprocess_model(text_test)\n",
        "\n",
        "print(f'Keys       : {list(text_preprocessed.keys())}')\n",
        "print(f'Shape      : {text_preprocessed[\"input_word_ids\"].shape}')\n",
        "print(f'Word Ids   : {text_preprocessed[\"input_word_ids\"][0, :12]}')\n",
        "print(f'Input Mask : {text_preprocessed[\"input_mask\"][0, :12]}')\n",
        "print(f'Type Ids   : {text_preprocessed[\"input_type_ids\"][0, :12]}')"
      ],
      "execution_count": 8,
      "outputs": [
        {
          "output_type": "stream",
          "text": [
            "Keys       : ['input_mask', 'input_type_ids', 'input_word_ids']\n",
            "Shape      : (1, 128)\n",
            "Word Ids   : [ 101 2023 2003 2107 2019 6429 3185  999  102    0    0    0]\n",
            "Input Mask : [1 1 1 1 1 1 1 1 1 0 0 0]\n",
            "Type Ids   : [0 0 0 0 0 0 0 0 0 0 0 0]\n"
          ],
          "name": "stdout"
        }
      ]
    },
    {
      "cell_type": "markdown",
      "metadata": {
        "id": "452ci4XSQVoy"
      },
      "source": [
        "### Загрузка модели"
      ]
    },
    {
      "cell_type": "code",
      "metadata": {
        "id": "JEoTCEu1QXPy"
      },
      "source": [
        "bert_model = hub.KerasLayer(tfhub_handle_encoder)"
      ],
      "execution_count": 9,
      "outputs": []
    },
    {
      "cell_type": "code",
      "metadata": {
        "id": "m1P5AI3HQfu5",
        "colab": {
          "base_uri": "https://localhost:8080/"
        },
        "outputId": "b384a1be-9b56-49bb-8f66-6a099af2e9fa"
      },
      "source": [
        "bert_results = bert_model(text_preprocessed)\n",
        "\n",
        "print(f'Loaded BERT: {tfhub_handle_encoder}')\n",
        "print(f'Pooled Outputs Shape:{bert_results[\"pooled_output\"].shape}')\n",
        "print(f'Pooled Outputs Values:{bert_results[\"pooled_output\"][0, :12]}')\n",
        "print(f'Sequence Outputs Shape:{bert_results[\"sequence_output\"].shape}')\n",
        "print(f'Sequence Outputs Values:{bert_results[\"sequence_output\"][0, :12]}')"
      ],
      "execution_count": 10,
      "outputs": [
        {
          "output_type": "stream",
          "text": [
            "Loaded BERT: https://tfhub.dev/tensorflow/small_bert/bert_en_uncased_L-2_H-128_A-2/1\n",
            "Pooled Outputs Shape:(1, 128)\n",
            "Pooled Outputs Values:[-0.9999945   0.14341958 -0.998978    0.9951448  -0.9997457   0.9131291\n",
            " -0.9961581  -0.9709751   0.09740017  0.01907067 -0.84881747 -0.09385538]\n",
            "Sequence Outputs Shape:(1, 128, 128)\n",
            "Sequence Outputs Values:[[-0.43723646 -1.0138294  -2.3744745  ... -0.7589707  -2.0910308\n",
            "  -0.2580993 ]\n",
            " [-1.3369722  -0.3688021   0.57868814 ... -2.1810174  -1.7530917\n",
            "  -0.09555025]\n",
            " [-1.0607057  -0.30371028  0.34461355 ... -1.2898579  -1.9519887\n",
            "  -0.12230396]\n",
            " ...\n",
            " [-0.86022747 -0.5440611   0.65837383 ... -1.4765673  -1.751861\n",
            "   1.1197373 ]\n",
            " [-0.4686907  -0.5715229   0.67256635 ... -1.7302344  -1.9740777\n",
            "   0.97479236]\n",
            " [ 0.02036649 -0.7551187   0.5948246  ... -1.965678   -1.9051421\n",
            "   0.48970145]]\n"
          ],
          "name": "stdout"
        }
      ]
    },
    {
      "cell_type": "markdown",
      "metadata": {
        "id": "QyNw02mfTRfQ"
      },
      "source": [
        "## Создание и обучение модели"
      ]
    },
    {
      "cell_type": "markdown",
      "metadata": {
        "id": "oqcGlA0eTXmH"
      },
      "source": [
        "### Определение модели"
      ]
    },
    {
      "cell_type": "code",
      "metadata": {
        "id": "sN8E-ZZxTVBD"
      },
      "source": [
        "def build_classifier_model():\n",
        "  text_input = tf.keras.layers.Input(shape=(), dtype=tf.string, name='text')\n",
        "  preprocessing_layer = hub.KerasLayer(tfhub_handle_preprocess, name='preprocessing')\n",
        "  encoder_inputs = preprocessing_layer(text_input)\n",
        "  encoder = hub.KerasLayer(tfhub_handle_encoder, trainable=True, name='BERT_encoder')\n",
        "  outputs = encoder(encoder_inputs)\n",
        "  net = outputs['pooled_output']\n",
        "  net = tf.keras.layers.Dropout(0.1)(net)\n",
        "  net = tf.keras.layers.Dense(1, activation=None, name='classifier')(net)\n",
        "  return tf.keras.Model(text_input, net)"
      ],
      "execution_count": 11,
      "outputs": []
    },
    {
      "cell_type": "code",
      "metadata": {
        "id": "ts-POd6mUz2C",
        "colab": {
          "base_uri": "https://localhost:8080/"
        },
        "outputId": "8dcc4c6d-5175-4778-e959-0319e4acf93b"
      },
      "source": [
        "classifier_model = build_classifier_model()\n",
        "bert_raw_result = classifier_model(tf.constant(text_test))\n",
        "print(tf.sigmoid(bert_raw_result))"
      ],
      "execution_count": 12,
      "outputs": [
        {
          "output_type": "stream",
          "text": [
            "tf.Tensor([[0.61353105]], shape=(1, 1), dtype=float32)\n"
          ],
          "name": "stdout"
        }
      ]
    },
    {
      "cell_type": "code",
      "metadata": {
        "id": "9E7qRetkVu6z",
        "colab": {
          "base_uri": "https://localhost:8080/",
          "height": 533
        },
        "outputId": "194bfcf3-f6a3-4389-c77b-128c41dde8ce"
      },
      "source": [
        "tf.keras.utils.plot_model(classifier_model, show_shapes=True, show_dtype=True,\n",
        "    show_layer_names=True, expand_nested=False)"
      ],
      "execution_count": 25,
      "outputs": [
        {
          "output_type": "execute_result",
          "data": {
            "image/png": "[encoded data removed]",
            "text/plain": [
              "<IPython.core.display.Image object>"
            ]
          },
          "metadata": {
            "tags": []
          },
          "execution_count": 25
        }
      ]
    },
    {
      "cell_type": "markdown",
      "metadata": {
        "id": "QgKqXhZeVJHb"
      },
      "source": [
        "### Обучение модели"
      ]
    },
    {
      "cell_type": "markdown",
      "metadata": {
        "id": "mStXgCm5XhQZ"
      },
      "source": [
        "#### Опеределение параметров"
      ]
    },
    {
      "cell_type": "markdown",
      "metadata": {
        "id": "q7o7E-jxVxxX"
      },
      "source": [
        "Опредление функции потерь и метрики:"
      ]
    },
    {
      "cell_type": "code",
      "metadata": {
        "id": "edxGyv7pVwTd"
      },
      "source": [
        "loss = tf.keras.losses.BinaryCrossentropy(from_logits=True)\n",
        "metrics = tf.metrics.BinaryAccuracy()"
      ],
      "execution_count": 14,
      "outputs": []
    },
    {
      "cell_type": "markdown",
      "metadata": {
        "id": "vauPCxNAV52t"
      },
      "source": [
        "Определение метода оптимизации градиентного спуска:"
      ]
    },
    {
      "cell_type": "code",
      "metadata": {
        "id": "fMarerIwV6Ox"
      },
      "source": [
        "epochs = 5\n",
        "steps_per_epoch = tf.data.experimental.cardinality(train_ds).numpy()\n",
        "num_train_steps = steps_per_epoch * epochs\n",
        "num_warmup_steps = int(0.1*num_train_steps)\n",
        "\n",
        "init_lr = 3e-5\n",
        "optimizer = optimization.create_optimizer(init_lr=init_lr,\n",
        "                                          num_train_steps=num_train_steps,\n",
        "                                          num_warmup_steps=num_warmup_steps,\n",
        "                                          optimizer_type='adamw')"
      ],
      "execution_count": 15,
      "outputs": []
    },
    {
      "cell_type": "markdown",
      "metadata": {
        "id": "9Vq0ToqDXmok"
      },
      "source": [
        "#### Обучение"
      ]
    },
    {
      "cell_type": "markdown",
      "metadata": {
        "id": "pR7OHihlYCSH"
      },
      "source": [
        "Копмилирование модели:"
      ]
    },
    {
      "cell_type": "code",
      "metadata": {
        "id": "Y9_3v-5mXn6b"
      },
      "source": [
        "classifier_model.compile(optimizer=optimizer,\n",
        "                         loss=loss,\n",
        "                         metrics=metrics)"
      ],
      "execution_count": 16,
      "outputs": []
    },
    {
      "cell_type": "markdown",
      "metadata": {
        "id": "sPNHD11IYEwN"
      },
      "source": [
        "Запуск обучения:"
      ]
    },
    {
      "cell_type": "code",
      "metadata": {
        "id": "qil_D7EKXqng",
        "colab": {
          "base_uri": "https://localhost:8080/"
        },
        "outputId": "a90acf05-3971-4b16-b71c-77c6b0912085"
      },
      "source": [
        "print(f'Training model with {tfhub_handle_encoder}')\n",
        "history = classifier_model.fit(x=train_ds,\n",
        "                               validation_data=val_ds,\n",
        "                               epochs=epochs)"
      ],
      "execution_count": 17,
      "outputs": [
        {
          "output_type": "stream",
          "text": [
            "Training model with https://tfhub.dev/tensorflow/small_bert/bert_en_uncased_L-2_H-128_A-2/1\n",
            "Epoch 1/5\n",
            "625/625 [==============================] - 68s 104ms/step - loss: 0.6413 - binary_accuracy: 0.5998 - val_loss: 0.5125 - val_binary_accuracy: 0.7274\n",
            "Epoch 2/5\n",
            "625/625 [==============================] - 62s 99ms/step - loss: 0.4860 - binary_accuracy: 0.7537 - val_loss: 0.4458 - val_binary_accuracy: 0.7862\n",
            "Epoch 3/5\n",
            "625/625 [==============================] - 61s 98ms/step - loss: 0.4332 - binary_accuracy: 0.7922 - val_loss: 0.4322 - val_binary_accuracy: 0.7962\n",
            "Epoch 4/5\n",
            "625/625 [==============================] - 61s 98ms/step - loss: 0.4106 - binary_accuracy: 0.8084 - val_loss: 0.4269 - val_binary_accuracy: 0.8018\n",
            "Epoch 5/5\n",
            "625/625 [==============================] - 61s 97ms/step - loss: 0.3956 - binary_accuracy: 0.8195 - val_loss: 0.4262 - val_binary_accuracy: 0.8030\n"
          ],
          "name": "stdout"
        }
      ]
    },
    {
      "cell_type": "markdown",
      "metadata": {
        "id": "4UpFIH_8YoeH"
      },
      "source": [
        "#### Оценка модели"
      ]
    },
    {
      "cell_type": "code",
      "metadata": {
        "id": "Li0cXaIEYsO7",
        "colab": {
          "base_uri": "https://localhost:8080/"
        },
        "outputId": "7f4a31e5-31a9-48d1-ff8f-8fa0350a3896"
      },
      "source": [
        "loss, accuracy = classifier_model.evaluate(test_ds)\n",
        "\n",
        "print(f'Loss: {loss}')\n",
        "print(f'Accuracy: {accuracy}')"
      ],
      "execution_count": 18,
      "outputs": [
        {
          "output_type": "stream",
          "text": [
            "782/782 [==============================] - 54s 69ms/step - loss: 0.4287 - binary_accuracy: 0.8022\n",
            "Loss: 0.42868906259536743\n",
            "Accuracy: 0.8021600246429443\n"
          ],
          "name": "stdout"
        }
      ]
    },
    {
      "cell_type": "markdown",
      "metadata": {
        "id": "_SYaQwLHYtKv"
      },
      "source": [
        "График функции потерь:"
      ]
    },
    {
      "cell_type": "code",
      "metadata": {
        "id": "1QFDUTHYZDkr",
        "colab": {
          "base_uri": "https://localhost:8080/",
          "height": 438
        },
        "outputId": "7dd3f496-cf60-4b5a-95d0-117af81d4802"
      },
      "source": [
        "history_dict = history.history\n",
        "print(history_dict.keys())\n",
        "\n",
        "acc = history_dict['binary_accuracy']\n",
        "val_acc = history_dict['val_binary_accuracy']\n",
        "loss = history_dict['loss']\n",
        "val_loss = history_dict['val_loss']\n",
        "\n",
        "epochs = range(1, len(acc) + 1)\n",
        "fig = plt.figure(figsize=(10, 6))\n",
        "fig.tight_layout()\n",
        "\n",
        "plt.subplot(2, 1, 1)\n",
        "# \"bo\" is for \"blue dot\"\n",
        "plt.plot(epochs, loss, 'r', label='Training loss')\n",
        "# b is for \"solid blue line\"\n",
        "plt.plot(epochs, val_loss, 'b', label='Validation loss')\n",
        "plt.title('Training and validation loss')\n",
        "# plt.xlabel('Epochs')\n",
        "plt.ylabel('Loss')\n",
        "plt.legend()\n",
        "\n",
        "plt.subplot(2, 1, 2)\n",
        "plt.plot(epochs, acc, 'r', label='Training acc')\n",
        "plt.plot(epochs, val_acc, 'b', label='Validation acc')\n",
        "plt.title('Training and validation accuracy')\n",
        "plt.xlabel('Epochs')\n",
        "plt.ylabel('Accuracy')\n",
        "plt.legend(loc='lower right')"
      ],
      "execution_count": 19,
      "outputs": [
        {
          "output_type": "stream",
          "text": [
            "dict_keys(['loss', 'binary_accuracy', 'val_loss', 'val_binary_accuracy'])\n"
          ],
          "name": "stdout"
        },
        {
          "output_type": "execute_result",
          "data": {
            "text/plain": [
              "<matplotlib.legend.Legend at 0x7f08c62ad1d0>"
            ]
          },
          "metadata": {
            "tags": []
          },
          "execution_count": 19
        },
        {
          "output_type": "display_data",
          "data": {
            "image/png": "[encoded data removed]",
            "text/plain": [
              "<Figure size 720x432 with 2 Axes>"
            ]
          },
          "metadata": {
            "tags": [],
            "needs_background": "light"
          }
        }
      ]
    }
  ]
}